{
 "cells": [
  {
   "cell_type": "code",
   "execution_count": null,
   "metadata": {},
   "outputs": [],
   "source": [
    "import numpy as np\n",
    "import matplotlib.pyplot as plt\n",
    "import os\n",
    "from sklearn.ensemble import AdaBoostClassifier as ABC\n",
    "from sklearn.metrics import confusion_matrix, ConfusionMatrixDisplay\n",
    "from sklearn.manifold import TSNE\n",
    "\n",
    "plt.rcParams['figure.figsize'] = [15, 10]"
   ]
  },
  {
   "cell_type": "code",
   "execution_count": null,
   "metadata": {},
   "outputs": [],
   "source": [
    "qpes = np.loadtxt(os.getcwd()[:-21]+'feature_extraction/QPE_sim_lcsoft_dt250_feats.csv',delimiter=',')\n",
    "qpeh = np.loadtxt(os.getcwd()[:-21]+'feature_extraction/QPE_sim_lchard_dt250_feats.csv',delimiter=',')\n",
    "qpef = np.loadtxt(os.getcwd()[:-21]+'feature_extraction/QPE_sim_lcfull_dt250_feats.csv',delimiter=',')\n",
    "npes = np.loadtxt(os.getcwd()[:-21]+'feature_extraction/nPE_sim_lcsoft_dt250_feats.csv',delimiter=',')\n",
    "npeh = np.loadtxt(os.getcwd()[:-21]+'feature_extraction/nPE_sim_lchard_dt250_feats.csv',delimiter=',')\n",
    "npef = np.loadtxt(os.getcwd()[:-21]+'feature_extraction/nPE_sim_lcfull_dt250_feats.csv',delimiter=',')"
   ]
  },
  {
   "cell_type": "code",
   "execution_count": null,
   "metadata": {},
   "outputs": [],
   "source": [
    "qpes_lc = np.loadtxt(os.getcwd()[:-21]+'training_data/QPE/QPE_sim_lcsoft_dt250.csv',delimiter=',')\n",
    "qpeh_lc = np.loadtxt(os.getcwd()[:-21]+'training_data/QPE/QPE_sim_lchard_dt250.csv',delimiter=',')\n",
    "qpef_lc = np.loadtxt(os.getcwd()[:-21]+'training_data/QPE/QPE_sim_lcfull_dt250.csv',delimiter=',')\n",
    "npes_lc = np.loadtxt(os.getcwd()[:-21]+'training_data/QPE/nPE_sim_lcsoft_dt250.csv',delimiter=',')\n",
    "npeh_lc = np.loadtxt(os.getcwd()[:-21]+'training_data/QPE/nPE_sim_lchard_dt250.csv',delimiter=',')\n",
    "npef_lc = np.loadtxt(os.getcwd()[:-21]+'training_data/QPE/nPE_sim_lcfull_dt250.csv',delimiter=',')"
   ]
  },
  {
   "cell_type": "code",
   "execution_count": null,
   "metadata": {},
   "outputs": [],
   "source": [
    "all_feats = np.zeros((20000,128),dtype=object)\n",
    "all_feats[:,0] = np.arange(20000,dtype=int)\n",
    "all_feats[:10000,1:43] = qpef\n",
    "all_feats[:10000,43:85] = qpes\n",
    "all_feats[:10000,85:127] = qpeh\n",
    "all_feats[:10000,127] = 'QPE'\n",
    "all_feats[10000:,1:43] = npef\n",
    "all_feats[10000:,43:85] = npes\n",
    "all_feats[10000:,85:127] = npeh\n",
    "all_feats[10000:,127] = 'nP'"
   ]
  },
  {
   "cell_type": "code",
   "execution_count": null,
   "metadata": {},
   "outputs": [],
   "source": [
    "np.random.shuffle(all_feats)"
   ]
  },
  {
   "cell_type": "code",
   "execution_count": null,
   "metadata": {},
   "outputs": [],
   "source": [
    "train_data = all_feats[:16000,1:127]\n",
    "train_labels = all_feats[:16000,127]\n",
    "test_data = all_feats[16000:,1:127]\n",
    "test_labels = all_feats[16000:,127]"
   ]
  },
  {
   "cell_type": "code",
   "execution_count": null,
   "metadata": {},
   "outputs": [],
   "source": [
    "ab = ABC()\n",
    "ab.fit(train_data,train_labels)\n",
    "ab.score(test_data,test_labels)"
   ]
  },
  {
   "cell_type": "code",
   "execution_count": null,
   "metadata": {},
   "outputs": [],
   "source": [
    "test_preds = ab.predict(test_data)\n",
    "confmat = confusion_matrix(test_labels,test_preds,labels=ab.classes_)\n",
    "\n",
    "cm_display = ConfusionMatrixDisplay(confmat,display_labels=ab.classes_).plot()"
   ]
  },
  {
   "cell_type": "code",
   "execution_count": null,
   "metadata": {},
   "outputs": [],
   "source": [
    "bad_preds = np.where(test_preds != test_labels)[0]\n",
    "bad_pred_lc_nos = sorted(all_feats[16000:,0][bad_preds])\n",
    "len(bad_pred_lc_nos)"
   ]
  },
  {
   "cell_type": "code",
   "execution_count": null,
   "metadata": {
    "scrolled": true
   },
   "outputs": [],
   "source": [
    "for i in bad_pred_lc_nos:\n",
    "    if i < 10000:\n",
    "        plt.plot(qpes_lc[0],qpes_lc[i+1],color='r')\n",
    "        plt.plot(qpeh_lc[0],qpeh_lc[i+1],color='b')\n",
    "        plt.plot(qpef_lc[0],qpef_lc[i+1],color='k')\n",
    "        plt.title('False Negative')\n",
    "        plt.show()\n",
    "    if i >= 10000:\n",
    "        plt.plot(npes_lc[0],npes_lc[i-9999],color='r')\n",
    "        plt.plot(npeh_lc[0],npeh_lc[i-9999],color='b')\n",
    "        plt.plot(npef_lc[0],npef_lc[i-9999],color='k')\n",
    "        plt.title('False Positive')\n",
    "        plt.show()"
   ]
  },
  {
   "cell_type": "code",
   "execution_count": null,
   "metadata": {},
   "outputs": [],
   "source": [
    "tsne_transform = TSNE().fit_transform(all_feats[:,1:127])\n"
   ]
  },
  {
   "cell_type": "code",
   "execution_count": null,
   "metadata": {},
   "outputs": [],
   "source": [
    "qpe_idxs = np.where(all_feats[:,-1] == 'QPE')[0]\n",
    "npe_idxs = np.where(all_feats[:,-1] == 'nP')[0]\n",
    "plt.scatter(tsne_transform[npe_idxs,0],tsne_transform[npe_idxs,1],color='r',alpha=0.1,label='nPE')\n",
    "plt.scatter(tsne_transform[qpe_idxs,0],tsne_transform[qpe_idxs,1],color='b',alpha=0.1,label='QPE')\n",
    "plt.scatter(tsne_transform[bad_pred_lc_nos,0],tsne_transform[bad_pred_lc_nos,1],color='k',label='Misclass')\n",
    "plt.legend(loc='lower right')\n",
    "plt.plot()"
   ]
  }
 ],
 "metadata": {
  "kernelspec": {
   "display_name": "Python 3 (ipykernel)",
   "language": "python",
   "name": "python3"
  },
  "language_info": {
   "codemirror_mode": {
    "name": "ipython",
    "version": 3
   },
   "file_extension": ".py",
   "mimetype": "text/x-python",
   "name": "python",
   "nbconvert_exporter": "python",
   "pygments_lexer": "ipython3",
   "version": "3.8.10"
  }
 },
 "nbformat": 4,
 "nbformat_minor": 4
}
