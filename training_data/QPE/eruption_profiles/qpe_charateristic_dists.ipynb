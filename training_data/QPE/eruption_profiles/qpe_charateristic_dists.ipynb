{
 "cells": [
  {
   "cell_type": "code",
   "execution_count": 1,
   "metadata": {},
   "outputs": [],
   "source": [
    "import numpy as np\n",
    "import pandas as pd\n",
    "import matplotlib.pyplot as plt\n",
    "\n",
    "from astropy.io import fits\n",
    "from astropy.modeling import models, fitting\n",
    "from stingray import Lightcurve\n",
    "\n",
    "#load the summary characteristic files\n",
    "profile_df = pd.read_csv('eruption_profiles.csv')\n",
    "dc_df = pd.read_csv('eruption_dcs.csv')"
   ]
  },
  {
   "cell_type": "code",
   "execution_count": 2,
   "metadata": {
    "scrolled": true
   },
   "outputs": [
    {
     "data": {
      "text/html": [
       "<div>\n",
       "<style scoped>\n",
       "    .dataframe tbody tr th:only-of-type {\n",
       "        vertical-align: middle;\n",
       "    }\n",
       "\n",
       "    .dataframe tbody tr th {\n",
       "        vertical-align: top;\n",
       "    }\n",
       "\n",
       "    .dataframe thead th {\n",
       "        text-align: right;\n",
       "    }\n",
       "</style>\n",
       "<table border=\"1\" class=\"dataframe\">\n",
       "  <thead>\n",
       "    <tr style=\"text-align: right;\">\n",
       "      <th></th>\n",
       "      <th>Seg</th>\n",
       "      <th>Amplitude</th>\n",
       "      <th>Duration</th>\n",
       "    </tr>\n",
       "  </thead>\n",
       "  <tbody>\n",
       "    <tr>\n",
       "      <th>0</th>\n",
       "      <td>0124710801_e1.lc</td>\n",
       "      <td>7.735395</td>\n",
       "      <td>1299.881253</td>\n",
       "    </tr>\n",
       "    <tr>\n",
       "      <th>1</th>\n",
       "      <td>0411980401_e1.lc</td>\n",
       "      <td>1.099665</td>\n",
       "      <td>710.572857</td>\n",
       "    </tr>\n",
       "    <tr>\n",
       "      <th>2</th>\n",
       "      <td>0823680101_e1.lc</td>\n",
       "      <td>5.663419</td>\n",
       "      <td>1925.302234</td>\n",
       "    </tr>\n",
       "    <tr>\n",
       "      <th>3</th>\n",
       "      <td>0823680101_e2.lc</td>\n",
       "      <td>7.598665</td>\n",
       "      <td>2066.117327</td>\n",
       "    </tr>\n",
       "    <tr>\n",
       "      <th>4</th>\n",
       "      <td>0831790701_e1.lc</td>\n",
       "      <td>6.000399</td>\n",
       "      <td>2047.941361</td>\n",
       "    </tr>\n",
       "    <tr>\n",
       "      <th>...</th>\n",
       "      <td>...</td>\n",
       "      <td>...</td>\n",
       "      <td>...</td>\n",
       "    </tr>\n",
       "    <tr>\n",
       "      <th>64</th>\n",
       "      <td>0914792901_e2.lc</td>\n",
       "      <td>1.894667</td>\n",
       "      <td>2028.815246</td>\n",
       "    </tr>\n",
       "    <tr>\n",
       "      <th>65</th>\n",
       "      <td>0914792901_e3.lc</td>\n",
       "      <td>1.496194</td>\n",
       "      <td>1367.898424</td>\n",
       "    </tr>\n",
       "    <tr>\n",
       "      <th>66</th>\n",
       "      <td>0914792901_e4.lc</td>\n",
       "      <td>2.103191</td>\n",
       "      <td>2117.715862</td>\n",
       "    </tr>\n",
       "    <tr>\n",
       "      <th>67</th>\n",
       "      <td>0914793101_e1.lc</td>\n",
       "      <td>3.839753</td>\n",
       "      <td>2154.157649</td>\n",
       "    </tr>\n",
       "    <tr>\n",
       "      <th>68</th>\n",
       "      <td>0914793101_e2.lc</td>\n",
       "      <td>2.006036</td>\n",
       "      <td>1858.218173</td>\n",
       "    </tr>\n",
       "  </tbody>\n",
       "</table>\n",
       "<p>69 rows × 3 columns</p>\n",
       "</div>"
      ],
      "text/plain": [
       "                 Seg  Amplitude     Duration\n",
       "0   0124710801_e1.lc   7.735395  1299.881253\n",
       "1   0411980401_e1.lc   1.099665   710.572857\n",
       "2   0823680101_e1.lc   5.663419  1925.302234\n",
       "3   0823680101_e2.lc   7.598665  2066.117327\n",
       "4   0831790701_e1.lc   6.000399  2047.941361\n",
       "..               ...        ...          ...\n",
       "64  0914792901_e2.lc   1.894667  2028.815246\n",
       "65  0914792901_e3.lc   1.496194  1367.898424\n",
       "66  0914792901_e4.lc   2.103191  2117.715862\n",
       "67  0914793101_e1.lc   3.839753  2154.157649\n",
       "68  0914793101_e2.lc   2.006036  1858.218173\n",
       "\n",
       "[69 rows x 3 columns]"
      ]
     },
     "metadata": {},
     "output_type": "display_data"
    }
   ],
   "source": [
    "display(profile_df)"
   ]
  },
  {
   "cell_type": "code",
   "execution_count": 3,
   "metadata": {
    "scrolled": false
   },
   "outputs": [
    {
     "data": {
      "text/html": [
       "<div>\n",
       "<style scoped>\n",
       "    .dataframe tbody tr th:only-of-type {\n",
       "        vertical-align: middle;\n",
       "    }\n",
       "\n",
       "    .dataframe tbody tr th {\n",
       "        vertical-align: top;\n",
       "    }\n",
       "\n",
       "    .dataframe thead th {\n",
       "        text-align: right;\n",
       "    }\n",
       "</style>\n",
       "<table border=\"1\" class=\"dataframe\">\n",
       "  <thead>\n",
       "    <tr style=\"text-align: right;\">\n",
       "      <th></th>\n",
       "      <th>Obs</th>\n",
       "      <th>DC</th>\n",
       "    </tr>\n",
       "  </thead>\n",
       "  <tbody>\n",
       "    <tr>\n",
       "      <th>0</th>\n",
       "      <td>823680101</td>\n",
       "      <td>0.062658</td>\n",
       "    </tr>\n",
       "    <tr>\n",
       "      <th>1</th>\n",
       "      <td>831790701</td>\n",
       "      <td>0.063465</td>\n",
       "    </tr>\n",
       "    <tr>\n",
       "      <th>2</th>\n",
       "      <td>851180401</td>\n",
       "      <td>0.070647</td>\n",
       "    </tr>\n",
       "    <tr>\n",
       "      <th>3</th>\n",
       "      <td>851180501</td>\n",
       "      <td>0.095459</td>\n",
       "    </tr>\n",
       "    <tr>\n",
       "      <th>4</th>\n",
       "      <td>864330101</td>\n",
       "      <td>0.074272</td>\n",
       "    </tr>\n",
       "    <tr>\n",
       "      <th>5</th>\n",
       "      <td>864560101</td>\n",
       "      <td>0.080186</td>\n",
       "    </tr>\n",
       "    <tr>\n",
       "      <th>6</th>\n",
       "      <td>872390101</td>\n",
       "      <td>0.216805</td>\n",
       "    </tr>\n",
       "    <tr>\n",
       "      <th>7</th>\n",
       "      <td>893810501</td>\n",
       "      <td>0.082504</td>\n",
       "    </tr>\n",
       "    <tr>\n",
       "      <th>8</th>\n",
       "      <td>883770201</td>\n",
       "      <td>0.101403</td>\n",
       "    </tr>\n",
       "    <tr>\n",
       "      <th>9</th>\n",
       "      <td>904640201</td>\n",
       "      <td>0.071230</td>\n",
       "    </tr>\n",
       "    <tr>\n",
       "      <th>10</th>\n",
       "      <td>904640301</td>\n",
       "      <td>0.077531</td>\n",
       "    </tr>\n",
       "    <tr>\n",
       "      <th>11</th>\n",
       "      <td>913990201</td>\n",
       "      <td>0.085182</td>\n",
       "    </tr>\n",
       "    <tr>\n",
       "      <th>12</th>\n",
       "      <td>914792901</td>\n",
       "      <td>0.061755</td>\n",
       "    </tr>\n",
       "    <tr>\n",
       "      <th>13</th>\n",
       "      <td>914793101</td>\n",
       "      <td>0.031470</td>\n",
       "    </tr>\n",
       "  </tbody>\n",
       "</table>\n",
       "</div>"
      ],
      "text/plain": [
       "          Obs        DC\n",
       "0   823680101  0.062658\n",
       "1   831790701  0.063465\n",
       "2   851180401  0.070647\n",
       "3   851180501  0.095459\n",
       "4   864330101  0.074272\n",
       "5   864560101  0.080186\n",
       "6   872390101  0.216805\n",
       "7   893810501  0.082504\n",
       "8   883770201  0.101403\n",
       "9   904640201  0.071230\n",
       "10  904640301  0.077531\n",
       "11  913990201  0.085182\n",
       "12  914792901  0.061755\n",
       "13  914793101  0.031470"
      ]
     },
     "metadata": {},
     "output_type": "display_data"
    }
   ],
   "source": [
    "display(dc_df)"
   ]
  },
  {
   "cell_type": "code",
   "execution_count": 5,
   "metadata": {},
   "outputs": [
    {
     "data": {
      "text/plain": [
       "(array([ 9.,  3.,  6., 11., 11., 12.,  6.,  0.,  3.,  3.,  1.,  1.,  0.,\n",
       "         1.,  0.,  0.,  0.,  0.,  0.,  0.,  0.,  0.,  0.,  0.,  1.,  0.,\n",
       "         0.,  0.,  0.]),\n",
       " array([ 0,  2,  4,  6,  8, 10, 12, 14, 16, 18, 20, 22, 24, 26, 28, 30, 32,\n",
       "        34, 36, 38, 40, 42, 44, 46, 48, 50, 52, 54, 56, 58]),\n",
       " <BarContainer object of 29 artists>)"
      ]
     },
     "execution_count": 5,
     "metadata": {},
     "output_type": "execute_result"
    },
    {
     "data": {
      "image/png": "[encoded data removed]",
      "text/plain": [
       "<Figure size 432x288 with 1 Axes>"
      ]
     },
     "metadata": {
      "needs_background": "light"
     },
     "output_type": "display_data"
    }
   ],
   "source": [
    "#profile the feature distributions for the simulated lc generator\n",
    "plt.hist(profile_df['Amplitude'],bins=np.arange(0,60,2))"
   ]
  },
  {
   "cell_type": "code",
   "execution_count": 11,
   "metadata": {},
   "outputs": [
    {
     "data": {
      "text/plain": [
       "(array([ 0.,  0.,  0., 12.,  7.,  3., 13., 10.,  3.,  6., 12.,  2.,  0.,\n",
       "         0.,  0.,  0.,  0.,  0.,  0.,  0.,  0.,  0.,  0.,  0.]),\n",
       " array([   0,  200,  400,  600,  800, 1000, 1200, 1400, 1600, 1800, 2000,\n",
       "        2200, 2400, 2600, 2800, 3000, 3200, 3400, 3600, 3800, 4000, 4200,\n",
       "        4400, 4600, 4800]),\n",
       " <BarContainer object of 24 artists>)"
      ]
     },
     "execution_count": 11,
     "metadata": {},
     "output_type": "execute_result"
    },
    {
     "data": {
      "image/png": "[encoded data removed]",
      "text/plain": [
       "<Figure size 432x288 with 1 Axes>"
      ]
     },
     "metadata": {
      "needs_background": "light"
     },
     "output_type": "display_data"
    }
   ],
   "source": [
    "plt.hist(profile_df['Duration'],bins=np.arange(0,5000,200))"
   ]
  },
  {
   "cell_type": "code",
   "execution_count": 12,
   "metadata": {},
   "outputs": [
    {
     "data": {
      "text/plain": [
       "(array([1., 3., 7., 2., 0., 0., 0., 0., 0., 1.]),\n",
       " array([0.03147005, 0.05000358, 0.06853712, 0.08707065, 0.10560418,\n",
       "        0.12413771, 0.14267124, 0.16120477, 0.1797383 , 0.19827183,\n",
       "        0.21680537]),\n",
       " <BarContainer object of 10 artists>)"
      ]
     },
     "execution_count": 12,
     "metadata": {},
     "output_type": "execute_result"
    },
    {
     "data": {
      "image/png": "[encoded data removed]",
      "text/plain": [
       "<Figure size 432x288 with 1 Axes>"
      ]
     },
     "metadata": {
      "needs_background": "light"
     },
     "output_type": "display_data"
    }
   ],
   "source": [
    "plt.hist(dc_df['DC'])"
   ]
  },
  {
   "cell_type": "code",
   "execution_count": null,
   "metadata": {},
   "outputs": [],
   "source": []
  },
  {
   "cell_type": "code",
   "execution_count": null,
   "metadata": {},
   "outputs": [],
   "source": [
    "#load data file(s) for observations with new detected QPEs to add to summary csv\n",
    "hdul1 = fits.open('/home/rwebbe/astro_data/QPE_profiling/P0883770201PNX000SRCTSR8002.FTZ')\n",
    "hdul2 = fits.open('/home/rwebbe/astro_data/QPE_profiling/P0904640201PNX000SRCTSR8001.FTZ')\n",
    "hdul3 = fits.open('/home/rwebbe/astro_data/QPE_profiling/P0904640301PNX000SRCTSR8002.FTZ')\n",
    "hdul4 = fits.open('/home/rwebbe/astro_data/QPE_profiling/P0913990201PNX000SRCTSR8001.FTZ')\n",
    "hdul5 = fits.open('/home/rwebbe/astro_data/QPE_profiling/P0914792901PNX000SRCTSR8001.FTZ')\n",
    "hdul6 = fits.open('/home/rwebbe/astro_data/QPE_profiling/P0914793101PNX000SRCTSR8001.FTZ')\n"
   ]
  },
  {
   "cell_type": "code",
   "execution_count": null,
   "metadata": {},
   "outputs": [],
   "source": [
    "all_new_amps = []\n",
    "all_new_durs = []\n",
    "all_new_poss = [[],[],[],[],[],[]]"
   ]
  },
  {
   "cell_type": "code",
   "execution_count": null,
   "metadata": {},
   "outputs": [],
   "source": [
    "#for each new eruption, profile, and add the details to the df\n",
    "time = hdul1[1].data.field('TIME')\n",
    "rate1 = hdul1[1].data.field('RATE1')\n",
    "rate2 = hdul1[1].data.field('RATE2')\n",
    "rate3 = hdul1[1].data.field('RATE3')\n",
    "rate = rate1 + rate2 + rate3\n",
    "gtis = []\n",
    "for i in hdul1[2].data:\n",
    "    gtis.append([i[0],i[1]])\n",
    "lc = Lightcurve(time[np.isfinite(rate)],rate[np.isfinite(rate)],gti=gtis,input_counts=False)\n",
    "lc.apply_gtis()\n",
    "lc = lc.rebin(50)\n",
    "lc = lc.shift(-lc.time[0])\n",
    "lc.plot()\n"
   ]
  },
  {
   "cell_type": "code",
   "execution_count": null,
   "metadata": {
    "scrolled": true
   },
   "outputs": [],
   "source": [
    "lc_segs = []\n",
    "lc_segs.append(lc.truncate(5000,12000,method='time'))\n",
    "lc_segs.append(lc.truncate(12000,20000,method='time'))\n",
    "lc_segs.append(lc.truncate(20000,30000,method='time'))\n",
    "lc_segs.append(lc.truncate(30000,38000,method='time'))\n",
    "lc_segs.append(lc.truncate(38000,45000,method='time'))\n",
    "lc_segs.append(lc.truncate(45000,52000,method='time'))\n",
    "for seg in lc_segs:\n",
    "    seg.plot()"
   ]
  },
  {
   "cell_type": "code",
   "execution_count": null,
   "metadata": {},
   "outputs": [],
   "source": [
    "model1 = models.Const1D(0) + models.Gaussian1D(amplitude=20,mean=8500,stddev=2500)\n",
    "fit1 = fitting.LevMarLSQFitter()\n",
    "eruption1 = fit1(model1,lc_segs[0].time,lc_segs[0].counts)\n",
    "plt.scatter(lc_segs[0].time,lc_segs[0].counts)\n",
    "plt.plot(lc_segs[0].time,eruption1(lc_segs[0].time))\n",
    "all_new_amps.append(eruption1.parameters[1]/eruption1.parameters[0])\n",
    "all_new_poss[0].append((eruption1.parameters[2]))\n",
    "all_new_durs.append(eruption1.parameters[3]*(2*np.sqrt(2*np.log(2))))"
   ]
  },
  {
   "cell_type": "code",
   "execution_count": null,
   "metadata": {},
   "outputs": [],
   "source": [
    "model2 = models.Const1D(1) + models.Gaussian1D(amplitude=15,mean=16500,stddev=2500)\n",
    "fit2 = fitting.LevMarLSQFitter()\n",
    "eruption2 = fit2(model2,lc_segs[1].time,lc_segs[1].counts)\n",
    "plt.scatter(lc_segs[1].time,lc_segs[1].counts)\n",
    "plt.plot(lc_segs[1].time,eruption2(lc_segs[1].time))\n",
    "all_new_amps.append(eruption2.parameters[1]/eruption2.parameters[0])\n",
    "all_new_poss[0].append((eruption2.parameters[2]))\n",
    "all_new_durs.append(eruption2.parameters[3]*(2*np.sqrt(2*np.log(2))))"
   ]
  },
  {
   "cell_type": "code",
   "execution_count": null,
   "metadata": {},
   "outputs": [],
   "source": [
    "model3 = models.Const1D(0) + models.Gaussian1D(amplitude=20,mean=25000,stddev=2500)\n",
    "fit3 = fitting.LevMarLSQFitter()\n",
    "eruption3 = fit3(model3,lc_segs[2].time,lc_segs[2].counts)\n",
    "plt.scatter(lc_segs[2].time,lc_segs[2].counts)\n",
    "plt.plot(lc_segs[2].time,eruption3(lc_segs[2].time))\n",
    "all_new_amps.append(eruption3.parameters[1]/eruption3.parameters[0])\n",
    "all_new_poss[0].append((eruption3.parameters[2]))\n",
    "all_new_durs.append(eruption3.parameters[3]*(2*np.sqrt(2*np.log(2))))"
   ]
  },
  {
   "cell_type": "code",
   "execution_count": null,
   "metadata": {},
   "outputs": [],
   "source": [
    "model4 = models.Const1D(0) + models.Gaussian1D(amplitude=20,mean=33000,stddev=2500)\n",
    "fit4 = fitting.LevMarLSQFitter()\n",
    "eruption4 = fit4(model4,lc_segs[3].time,lc_segs[3].counts)\n",
    "plt.scatter(lc_segs[3].time,lc_segs[3].counts)\n",
    "plt.plot(lc_segs[3].time,eruption4(lc_segs[3].time))\n",
    "all_new_amps.append(eruption4.parameters[1]/eruption4.parameters[0])\n",
    "all_new_poss[0].append((eruption4.parameters[2]))\n",
    "all_new_durs.append(eruption4.parameters[3]*(2*np.sqrt(2*np.log(2))))"
   ]
  },
  {
   "cell_type": "code",
   "execution_count": null,
   "metadata": {},
   "outputs": [],
   "source": [
    "model5 = models.Const1D(0) + models.Gaussian1D(amplitude=20,mean=41500,stddev=2500)\n",
    "fit5 = fitting.LevMarLSQFitter()\n",
    "eruption5 = fit5(model5,lc_segs[4].time,lc_segs[4].counts)\n",
    "plt.scatter(lc_segs[4].time,lc_segs[4].counts)\n",
    "plt.plot(lc_segs[4].time,eruption5(lc_segs[4].time))\n",
    "all_new_amps.append(eruption5.parameters[1]/eruption5.parameters[0])\n",
    "all_new_poss[0].append((eruption5.parameters[2]))\n",
    "all_new_durs.append(eruption5.parameters[3]*(2*np.sqrt(2*np.log(2))))"
   ]
  },
  {
   "cell_type": "code",
   "execution_count": null,
   "metadata": {},
   "outputs": [],
   "source": [
    "model6 = models.Const1D(0) + models.Gaussian1D(amplitude=20,mean=49000,stddev=2500)\n",
    "fit6 = fitting.LevMarLSQFitter()\n",
    "eruption6 = fit6(model6,lc_segs[5].time,lc_segs[5].counts)\n",
    "plt.scatter(lc_segs[5].time,lc_segs[5].counts)\n",
    "plt.plot(lc_segs[5].time,eruption6(lc_segs[5].time))\n",
    "all_new_amps.append(eruption6.parameters[1]/eruption6.parameters[0])\n",
    "all_new_poss[0].append((eruption6.parameters[2]))\n",
    "all_new_durs.append(eruption6.parameters[3]*(2*np.sqrt(2*np.log(2))))"
   ]
  },
  {
   "cell_type": "code",
   "execution_count": null,
   "metadata": {},
   "outputs": [],
   "source": [
    "#for each new eruption, profile, and add the details to the df\n",
    "time = hdul2[1].data.field('TIME')\n",
    "rate1 = hdul2[1].data.field('RATE1')\n",
    "rate2 = hdul2[1].data.field('RATE2')\n",
    "rate3 = hdul2[1].data.field('RATE3')\n",
    "rate = rate1 + rate2 + rate3\n",
    "gtis = []\n",
    "for i in hdul2[2].data:\n",
    "    gtis.append([i[0],i[1]])\n",
    "lc = Lightcurve(time[np.isfinite(rate)],rate[np.isfinite(rate)],gti=gtis,input_counts=False)\n",
    "lc.apply_gtis()\n",
    "lc = lc.rebin(50)\n",
    "lc = lc.shift(-lc.time[0])\n",
    "lc.plot()\n"
   ]
  },
  {
   "cell_type": "code",
   "execution_count": null,
   "metadata": {
    "scrolled": true
   },
   "outputs": [],
   "source": [
    "lc_segs = []\n",
    "lc_segs.append(lc.truncate(0,20000,method='time'))\n",
    "lc_segs.append(lc.truncate(20000,40000,method='time'))\n",
    "lc_segs.append(lc.truncate(40000,60000,method='time'))\n",
    "lc_segs.append(lc.truncate(60000,80000,method='time'))\n",
    "lc_segs.append(lc.truncate(80000,98000,method='time'))\n",
    "lc_segs.append(lc.truncate(98000,110000,method='time'))\n",
    "for seg in lc_segs:\n",
    "    seg.plot()"
   ]
  },
  {
   "cell_type": "code",
   "execution_count": null,
   "metadata": {},
   "outputs": [],
   "source": [
    "model1 = models.Const1D(0) + models.Gaussian1D(amplitude=30,mean=3000,stddev=1000)\n",
    "fit1 = fitting.LevMarLSQFitter()\n",
    "eruption1 = fit1(model1,lc_segs[0].time,lc_segs[0].counts)\n",
    "plt.scatter(lc_segs[0].time,lc_segs[0].counts)\n",
    "plt.plot(lc_segs[0].time,eruption1(lc_segs[0].time))\n",
    "all_new_amps.append(eruption1.parameters[1]/eruption1.parameters[0])\n",
    "all_new_poss[1].append((eruption1.parameters[2]))\n",
    "all_new_durs.append(eruption1.parameters[3]*(2*np.sqrt(2*np.log(2))))"
   ]
  },
  {
   "cell_type": "code",
   "execution_count": null,
   "metadata": {},
   "outputs": [],
   "source": [
    "model2 = models.Const1D(1) + models.Gaussian1D(amplitude=35,mean=27000,stddev=500)\n",
    "fit2 = fitting.LevMarLSQFitter()\n",
    "eruption2 = fit2(model2,lc_segs[1].time,lc_segs[1].counts)\n",
    "plt.scatter(lc_segs[1].time,lc_segs[1].counts)\n",
    "plt.plot(lc_segs[1].time,eruption2(lc_segs[1].time))\n",
    "all_new_amps.append(eruption2.parameters[1]/eruption2.parameters[0])\n",
    "all_new_poss[1].append((eruption2.parameters[2]))\n",
    "all_new_durs.append(eruption2.parameters[3]*(2*np.sqrt(2*np.log(2))))"
   ]
  },
  {
   "cell_type": "code",
   "execution_count": null,
   "metadata": {},
   "outputs": [],
   "source": [
    "model3 = models.Const1D(0) + models.Gaussian1D(amplitude=20,mean=48500,stddev=500)\n",
    "fit3 = fitting.LevMarLSQFitter()\n",
    "eruption3 = fit3(model3,lc_segs[2].time,lc_segs[2].counts)\n",
    "plt.scatter(lc_segs[2].time,lc_segs[2].counts)\n",
    "plt.plot(lc_segs[2].time,eruption3(lc_segs[2].time))\n",
    "all_new_amps.append(eruption3.parameters[1]/eruption3.parameters[0])\n",
    "all_new_poss[1].append((eruption3.parameters[2]))\n",
    "all_new_durs.append(eruption3.parameters[3]*(2*np.sqrt(2*np.log(2))))"
   ]
  },
  {
   "cell_type": "code",
   "execution_count": null,
   "metadata": {},
   "outputs": [],
   "source": [
    "model4 = models.Const1D(0) + models.Gaussian1D(amplitude=35,mean=71000,stddev=2500)\n",
    "fit4 = fitting.LevMarLSQFitter()\n",
    "eruption4 = fit4(model4,lc_segs[3].time,lc_segs[3].counts)\n",
    "plt.scatter(lc_segs[3].time,lc_segs[3].counts)\n",
    "plt.plot(lc_segs[3].time,eruption4(lc_segs[3].time))\n",
    "all_new_amps.append(eruption4.parameters[1]/eruption4.parameters[0])\n",
    "all_new_poss[1].append((eruption4.parameters[2]))\n",
    "all_new_durs.append(eruption4.parameters[3]*(2*np.sqrt(2*np.log(2))))"
   ]
  },
  {
   "cell_type": "code",
   "execution_count": null,
   "metadata": {},
   "outputs": [],
   "source": [
    "model5 = models.Const1D(0) + models.Gaussian1D(amplitude=20,mean=93000,stddev=2500)\n",
    "fit5 = fitting.LevMarLSQFitter()\n",
    "eruption5 = fit5(model5,lc_segs[4].time,lc_segs[4].counts)\n",
    "plt.scatter(lc_segs[4].time,lc_segs[4].counts)\n",
    "plt.plot(lc_segs[4].time,eruption5(lc_segs[4].time))\n",
    "all_new_amps.append(eruption5.parameters[1]/eruption5.parameters[0])\n",
    "all_new_poss[1].append((eruption5.parameters[2]))\n",
    "all_new_durs.append(eruption5.parameters[3]*(2*np.sqrt(2*np.log(2))))"
   ]
  },
  {
   "cell_type": "code",
   "execution_count": null,
   "metadata": {},
   "outputs": [],
   "source": [
    "model6 = models.Const1D(0) + models.Gaussian1D(amplitude=35,mean=103000,stddev=500)\n",
    "fit6 = fitting.LevMarLSQFitter()\n",
    "eruption6 = fit6(model6,lc_segs[5].time,lc_segs[5].counts)\n",
    "plt.scatter(lc_segs[5].time,lc_segs[5].counts)\n",
    "plt.plot(lc_segs[5].time,eruption6(lc_segs[5].time))\n",
    "all_new_amps.append(eruption6.parameters[1]/eruption6.parameters[0])\n",
    "all_new_poss[1].append((eruption6.parameters[2]))\n",
    "all_new_durs.append(eruption6.parameters[3]*(2*np.sqrt(2*np.log(2))))"
   ]
  },
  {
   "cell_type": "code",
   "execution_count": null,
   "metadata": {},
   "outputs": [],
   "source": [
    "#for each new eruption, profile, and add the details to the df\n",
    "time = hdul3[1].data.field('TIME')\n",
    "rate1 = hdul3[1].data.field('RATE1')\n",
    "rate2 = hdul3[1].data.field('RATE2')\n",
    "rate3 = hdul3[1].data.field('RATE3')\n",
    "rate = rate1 + rate2 + rate3\n",
    "gtis = []\n",
    "for i in hdul3[2].data:\n",
    "    gtis.append([i[0],i[1]])\n",
    "lc = Lightcurve(time[np.isfinite(rate)],rate[np.isfinite(rate)],gti=gtis,input_counts=False)\n",
    "lc.apply_gtis()\n",
    "lc = lc.rebin(50)\n",
    "lc = lc.shift(-lc.time[0])\n",
    "lc.plot()\n"
   ]
  },
  {
   "cell_type": "code",
   "execution_count": null,
   "metadata": {
    "scrolled": true
   },
   "outputs": [],
   "source": [
    "lc_segs = []\n",
    "lc_segs.append(lc.truncate(20000,40000,method='time'))\n",
    "lc_segs.append(lc.truncate(40000,58000,method='time'))\n",
    "lc_segs.append(lc.truncate(58000,78000,method='time'))\n",
    "lc_segs.append(lc.truncate(78000,90000,method='time'))\n",
    "lc_segs.append(lc.truncate(90000,105000,method='time'))\n",
    "lc_segs.append(lc.truncate(105000,method='time'))\n",
    "for seg in lc_segs:\n",
    "    seg.plot()"
   ]
  },
  {
   "cell_type": "code",
   "execution_count": null,
   "metadata": {},
   "outputs": [],
   "source": [
    "model1 = models.Const1D(0) + models.Gaussian1D(amplitude=60,mean=25000,stddev=1000)\n",
    "fit1 = fitting.LevMarLSQFitter()\n",
    "eruption1 = fit1(model1,lc_segs[0].time,lc_segs[0].counts)\n",
    "plt.scatter(lc_segs[0].time,lc_segs[0].counts)\n",
    "plt.plot(lc_segs[0].time,eruption1(lc_segs[0].time))\n",
    "all_new_amps.append(eruption1.parameters[1]/eruption1.parameters[0])\n",
    "all_new_poss[2].append((eruption1.parameters[2]))\n",
    "all_new_durs.append(eruption1.parameters[3]*(2*np.sqrt(2*np.log(2))))"
   ]
  },
  {
   "cell_type": "code",
   "execution_count": null,
   "metadata": {},
   "outputs": [],
   "source": [
    "model2 = models.Const1D(1) + models.Gaussian1D(amplitude=60,mean=47000,stddev=500)\n",
    "fit2 = fitting.LevMarLSQFitter()\n",
    "eruption2 = fit2(model2,lc_segs[1].time,lc_segs[1].counts)\n",
    "plt.scatter(lc_segs[1].time,lc_segs[1].counts)\n",
    "plt.plot(lc_segs[1].time,eruption2(lc_segs[1].time))\n",
    "all_new_amps.append(eruption2.parameters[1]/eruption2.parameters[0])\n",
    "all_new_poss[2].append((eruption2.parameters[2]))\n",
    "all_new_durs.append(eruption2.parameters[3]*(2*np.sqrt(2*np.log(2))))"
   ]
  },
  {
   "cell_type": "code",
   "execution_count": null,
   "metadata": {},
   "outputs": [],
   "source": [
    "model3 = models.Const1D(0) + models.Gaussian1D(amplitude=70,mean=63000,stddev=500)\n",
    "fit3 = fitting.LevMarLSQFitter()\n",
    "eruption3 = fit3(model3,lc_segs[2].time,lc_segs[2].counts)\n",
    "plt.scatter(lc_segs[2].time,lc_segs[2].counts)\n",
    "plt.plot(lc_segs[2].time,eruption3(lc_segs[2].time))\n",
    "all_new_amps.append(eruption3.parameters[1]/eruption3.parameters[0])\n",
    "all_new_poss[2].append((eruption3.parameters[2]))\n",
    "all_new_durs.append(eruption3.parameters[3]*(2*np.sqrt(2*np.log(2))))"
   ]
  },
  {
   "cell_type": "code",
   "execution_count": null,
   "metadata": {},
   "outputs": [],
   "source": [
    "model4 = models.Const1D(0) + models.Gaussian1D(amplitude=60,mean=84000,stddev=2500)\n",
    "fit4 = fitting.LevMarLSQFitter()\n",
    "eruption4 = fit4(model4,lc_segs[3].time,lc_segs[3].counts)\n",
    "plt.scatter(lc_segs[3].time,lc_segs[3].counts)\n",
    "plt.plot(lc_segs[3].time,eruption4(lc_segs[3].time))\n",
    "all_new_amps.append(eruption4.parameters[1]/eruption4.parameters[0])\n",
    "all_new_poss[2].append((eruption4.parameters[2]))\n",
    "all_new_durs.append(eruption4.parameters[3]*(2*np.sqrt(2*np.log(2))))"
   ]
  },
  {
   "cell_type": "code",
   "execution_count": null,
   "metadata": {},
   "outputs": [],
   "source": [
    "model5 = models.Const1D(0) + models.Gaussian1D(amplitude=60,mean=96500,stddev=2500)\n",
    "fit5 = fitting.LevMarLSQFitter()\n",
    "eruption5 = fit5(model5,lc_segs[4].time,lc_segs[4].counts)\n",
    "plt.scatter(lc_segs[4].time,lc_segs[4].counts)\n",
    "plt.plot(lc_segs[4].time,eruption5(lc_segs[4].time))\n",
    "all_new_amps.append(eruption5.parameters[1]/eruption5.parameters[0])\n",
    "all_new_poss[2].append((eruption5.parameters[2]))\n",
    "all_new_durs.append(eruption5.parameters[3]*(2*np.sqrt(2*np.log(2))))"
   ]
  },
  {
   "cell_type": "code",
   "execution_count": null,
   "metadata": {},
   "outputs": [],
   "source": [
    "model6 = models.Const1D(0) + models.Gaussian1D(amplitude=70,mean=114500,stddev=500)\n",
    "fit6 = fitting.LevMarLSQFitter()\n",
    "eruption6 = fit6(model6,lc_segs[5].time,lc_segs[5].counts)\n",
    "plt.scatter(lc_segs[5].time,lc_segs[5].counts)\n",
    "plt.plot(lc_segs[5].time,eruption6(lc_segs[5].time))\n",
    "all_new_amps.append(eruption6.parameters[1]/eruption6.parameters[0])\n",
    "all_new_poss[2].append((eruption6.parameters[2]))\n",
    "all_new_durs.append(eruption6.parameters[3]*(2*np.sqrt(2*np.log(2))))"
   ]
  },
  {
   "cell_type": "code",
   "execution_count": null,
   "metadata": {},
   "outputs": [],
   "source": [
    "#for each new eruption, profile, and add the details to the df\n",
    "time = hdul4[1].data.field('TIME')\n",
    "rate1 = hdul4[1].data.field('RATE1')\n",
    "rate2 = hdul4[1].data.field('RATE2')\n",
    "rate3 = hdul4[1].data.field('RATE3')\n",
    "rate = rate1 + rate2 + rate3\n",
    "gtis = []\n",
    "for i in hdul4[2].data:\n",
    "    gtis.append([i[0],i[1]])\n",
    "lc = Lightcurve(time[np.isfinite(rate)],rate[np.isfinite(rate)],gti=gtis,input_counts=False)\n",
    "lc.apply_gtis()\n",
    "lc = lc.rebin(50)\n",
    "lc = lc.shift(-lc.time[0])\n",
    "lc.plot()\n"
   ]
  },
  {
   "cell_type": "code",
   "execution_count": null,
   "metadata": {
    "scrolled": true
   },
   "outputs": [],
   "source": [
    "lc_segs = []\n",
    "lc_segs.append(lc.truncate(20000,30000,method='time'))\n",
    "lc_segs.append(lc.truncate(40000,55000,method='time'))\n",
    "for seg in lc_segs:\n",
    "    seg.plot()"
   ]
  },
  {
   "cell_type": "code",
   "execution_count": null,
   "metadata": {},
   "outputs": [],
   "source": [
    "model1 = models.Const1D(10) + models.Gaussian1D(amplitude=35,mean=25500,stddev=1000)\n",
    "fit1 = fitting.LevMarLSQFitter()\n",
    "eruption1 = fit1(model1,lc_segs[0].time,lc_segs[0].counts)\n",
    "plt.scatter(lc_segs[0].time,lc_segs[0].counts)\n",
    "plt.plot(lc_segs[0].time,eruption1(lc_segs[0].time))\n",
    "all_new_amps.append(eruption1.parameters[1]/eruption1.parameters[0])\n",
    "all_new_poss[3].append((eruption1.parameters[2]))\n",
    "all_new_durs.append(eruption1.parameters[3]*(2*np.sqrt(2*np.log(2))))"
   ]
  },
  {
   "cell_type": "code",
   "execution_count": null,
   "metadata": {},
   "outputs": [],
   "source": [
    "model2 = models.Const1D(20) + models.Gaussian1D(amplitude=100,mean=45000,stddev=500)\n",
    "fit2 = fitting.LevMarLSQFitter()\n",
    "eruption2 = fit2(model2,lc_segs[1].time,lc_segs[1].counts)\n",
    "plt.scatter(lc_segs[1].time,lc_segs[1].counts)\n",
    "plt.plot(lc_segs[1].time,eruption2(lc_segs[1].time))\n",
    "all_new_amps.append(eruption2.parameters[1]/eruption2.parameters[0])\n",
    "all_new_poss[3].append((eruption2.parameters[2]))\n",
    "all_new_durs.append(eruption2.parameters[3]*(2*np.sqrt(2*np.log(2))))"
   ]
  },
  {
   "cell_type": "code",
   "execution_count": null,
   "metadata": {},
   "outputs": [],
   "source": [
    "#for each new eruption, profile, and add the details to the df\n",
    "time = hdul5[1].data.field('TIME')\n",
    "rate1 = hdul5[1].data.field('RATE1')\n",
    "rate2 = hdul5[1].data.field('RATE2')\n",
    "rate3 = hdul5[1].data.field('RATE3')\n",
    "rate = rate1 + rate2 + rate3\n",
    "gtis = []\n",
    "for i in hdul5[2].data:\n",
    "    gtis.append([i[0],i[1]])\n",
    "lc = Lightcurve(time[np.isfinite(rate)],rate[np.isfinite(rate)],gti=gtis,input_counts=False)\n",
    "lc.apply_gtis()\n",
    "lc = lc.rebin(50)\n",
    "lc = lc.shift(-lc.time[0])\n",
    "lc.plot()\n"
   ]
  },
  {
   "cell_type": "code",
   "execution_count": null,
   "metadata": {
    "scrolled": true
   },
   "outputs": [],
   "source": [
    "lc_segs = []\n",
    "lc_segs.append(lc.truncate(0,20000,method='time'))\n",
    "lc_segs.append(lc.truncate(20000,50000,method='time'))\n",
    "lc_segs.append(lc.truncate(50000,80000,method='time'))\n",
    "lc_segs.append(lc.truncate(80000,110000,method='time'))\n",
    "for seg in lc_segs:\n",
    "    seg.plot()"
   ]
  },
  {
   "cell_type": "code",
   "execution_count": null,
   "metadata": {},
   "outputs": [],
   "source": [
    "model1 = models.Const1D(10) + models.Gaussian1D(amplitude=35,mean=9000,stddev=1000)\n",
    "fit1 = fitting.LevMarLSQFitter()\n",
    "eruption1 = fit1(model1,lc_segs[0].time,lc_segs[0].counts)\n",
    "plt.scatter(lc_segs[0].time,lc_segs[0].counts)\n",
    "plt.plot(lc_segs[0].time,eruption1(lc_segs[0].time))\n",
    "all_new_amps.append(eruption1.parameters[1]/eruption1.parameters[0])\n",
    "all_new_poss[4].append((eruption1.parameters[2]))\n",
    "all_new_durs.append(eruption1.parameters[3]*(2*np.sqrt(2*np.log(2))))"
   ]
  },
  {
   "cell_type": "code",
   "execution_count": null,
   "metadata": {},
   "outputs": [],
   "source": [
    "model2 = models.Const1D(20) + models.Gaussian1D(amplitude=60,mean=36000,stddev=500)\n",
    "fit2 = fitting.LevMarLSQFitter()\n",
    "eruption2 = fit2(model2,lc_segs[1].time,lc_segs[1].counts)\n",
    "plt.scatter(lc_segs[1].time,lc_segs[1].counts)\n",
    "plt.plot(lc_segs[1].time,eruption2(lc_segs[1].time))\n",
    "all_new_amps.append(eruption2.parameters[1]/eruption2.parameters[0])\n",
    "all_new_poss[4].append((eruption2.parameters[2]))\n",
    "all_new_durs.append(eruption2.parameters[3]*(2*np.sqrt(2*np.log(2))))"
   ]
  },
  {
   "cell_type": "code",
   "execution_count": null,
   "metadata": {},
   "outputs": [],
   "source": [
    "model3 = models.Const1D(20) + models.Gaussian1D(amplitude=60,mean=69000,stddev=500)\n",
    "fit3 = fitting.LevMarLSQFitter()\n",
    "eruption3 = fit3(model3,lc_segs[2].time,lc_segs[2].counts)\n",
    "plt.scatter(lc_segs[2].time,lc_segs[2].counts)\n",
    "plt.plot(lc_segs[2].time,eruption3(lc_segs[2].time))\n",
    "all_new_amps.append(eruption3.parameters[1]/eruption3.parameters[0])\n",
    "all_new_poss[4].append((eruption4.parameters[2]))\n",
    "all_new_durs.append(eruption3.parameters[3]*(2*np.sqrt(2*np.log(2))))"
   ]
  },
  {
   "cell_type": "code",
   "execution_count": null,
   "metadata": {},
   "outputs": [],
   "source": [
    "model4 = models.Const1D(20) + models.Gaussian1D(amplitude=50,mean=96500,stddev=2500)\n",
    "fit4 = fitting.LevMarLSQFitter()\n",
    "eruption4 = fit4(model4,lc_segs[3].time,lc_segs[3].counts)\n",
    "plt.scatter(lc_segs[3].time,lc_segs[3].counts)\n",
    "plt.plot(lc_segs[3].time,eruption4(lc_segs[3].time))\n",
    "all_new_amps.append(eruption4.parameters[1]/eruption4.parameters[0])\n",
    "all_new_poss[4].append((eruption4.parameters[2]))\n",
    "all_new_durs.append(eruption4.parameters[3]*(2*np.sqrt(2*np.log(2))))"
   ]
  },
  {
   "cell_type": "code",
   "execution_count": null,
   "metadata": {},
   "outputs": [],
   "source": [
    "#for each new eruption, profile, and add the details to the df\n",
    "time = hdul6[1].data.field('TIME')\n",
    "rate1 = hdul6[1].data.field('RATE1')\n",
    "rate2 = hdul6[1].data.field('RATE2')\n",
    "rate3 = hdul6[1].data.field('RATE3')\n",
    "rate = rate1 + rate2 + rate3\n",
    "gtis = []\n",
    "for i in hdul6[2].data:\n",
    "    gtis.append([i[0],i[1]])\n",
    "lc = Lightcurve(time[np.isfinite(rate)],rate[np.isfinite(rate)],gti=gtis,input_counts=False)\n",
    "lc.apply_gtis()\n",
    "lc = lc.rebin(50)\n",
    "lc = lc.shift(-lc.time[0])\n",
    "lc.plot()\n"
   ]
  },
  {
   "cell_type": "code",
   "execution_count": null,
   "metadata": {
    "scrolled": true
   },
   "outputs": [],
   "source": [
    "lc_segs = []\n",
    "lc_segs.append(lc.truncate(20000,40000,method='time'))\n",
    "lc_segs.append(lc.truncate(80000,1000000,method='time'))\n",
    "for seg in lc_segs:\n",
    "    seg.plot()"
   ]
  },
  {
   "cell_type": "code",
   "execution_count": null,
   "metadata": {},
   "outputs": [],
   "source": [
    "model1 = models.Const1D(20) + models.Gaussian1D(amplitude=60,mean=27000,stddev=1000)\n",
    "fit1 = fitting.LevMarLSQFitter()\n",
    "eruption1 = fit1(model1,lc_segs[0].time,lc_segs[0].counts)\n",
    "plt.scatter(lc_segs[0].time,lc_segs[0].counts)\n",
    "plt.plot(lc_segs[0].time,eruption1(lc_segs[0].time))\n",
    "all_new_amps.append(eruption1.parameters[1]/eruption1.parameters[0])\n",
    "all_new_poss[5].append((eruption1.parameters[2]))\n",
    "all_new_durs.append(eruption1.parameters[3]*(2*np.sqrt(2*np.log(2))))"
   ]
  },
  {
   "cell_type": "code",
   "execution_count": null,
   "metadata": {},
   "outputs": [],
   "source": [
    "model2 = models.Const1D(20) + models.Gaussian1D(amplitude=40,mean=90000,stddev=500)\n",
    "fit2 = fitting.LevMarLSQFitter()\n",
    "eruption2 = fit2(model2,lc_segs[1].time,lc_segs[1].counts)\n",
    "plt.scatter(lc_segs[1].time,lc_segs[1].counts)\n",
    "plt.plot(lc_segs[1].time,eruption2(lc_segs[1].time))\n",
    "all_new_amps.append(eruption2.parameters[1]/eruption2.parameters[0])\n",
    "all_new_poss[5].append((eruption2.parameters[2]))\n",
    "all_new_durs.append(eruption2.parameters[3]*(2*np.sqrt(2*np.log(2))))"
   ]
  },
  {
   "cell_type": "code",
   "execution_count": null,
   "metadata": {},
   "outputs": [],
   "source": [
    "#for each new observation with eruptions, add the eruption details to the profile df\n",
    "new_eruption_df = pd.DataFrame(columns=['Seg','Amplitude','Duration'])\n",
    "new_eruption_df['Seg'] = ['0883770201_e1.lc','0883770201_e2.lc','0883770201_e3.lc','0883770201_e4.lc','0883770201_e5.lc','0883770201_e6.lc',\n",
    "                          '0904640201_e1.lc','0904640201_e2.lc','0904640201_e3.lc','0904640201_e4.lc','0904640201_e5.lc','0904640201_e6.lc',\n",
    "                          '0904640301_e1.lc','0904640301_e2.lc','0904640301_e3.lc','0904640301_e4.lc','0904640301_e5.lc','0904640301_e6.lc',\n",
    "                          '0913990201_e1.lc','0913990201_e2.lc','0914792901_e1.lc','0914792901_e2.lc','0914792901_e3.lc','0914792901_e4.lc',\n",
    "                          '0914793101_e1.lc','0914793101_e2.lc']\n",
    "new_eruption_df['Amplitude'] = all_new_amps\n",
    "new_eruption_df['Duration'] = all_new_durs\n"
   ]
  },
  {
   "cell_type": "code",
   "execution_count": null,
   "metadata": {
    "scrolled": true
   },
   "outputs": [],
   "source": [
    "display(new_eruption_df)\n",
    "new_eruption_df.shape"
   ]
  },
  {
   "cell_type": "code",
   "execution_count": null,
   "metadata": {
    "scrolled": true
   },
   "outputs": [],
   "source": [
    "full_profile_df = pd.concat([profile_df,new_eruption_df],ignore_index=True)\n",
    "display(full_profile_df)"
   ]
  },
  {
   "cell_type": "code",
   "execution_count": null,
   "metadata": {
    "scrolled": true
   },
   "outputs": [],
   "source": [
    "#for each new observation with multiple eruptions, add the duty cycle info to the df\n",
    "new_dc_df = pd.DataFrame(columns=['Obs','DC'])\n",
    "new_dc_df['Obs'] = ['0883770201','0904640201','0904640301','0913990201','0914792901','0914793101']\n",
    "new_obs_recs = [[],[],[],[],[],[]]\n",
    "for i in range(6):\n",
    "    for j in range(len(all_new_poss[i])-1):\n",
    "        new_obs_recs[i].append(all_new_poss[i][j+1] - all_new_poss[i][j])\n",
    "new_avg_recs = []\n",
    "for i in new_obs_recs:\n",
    "    new_avg_recs.append(np.average(i))\n",
    "new_avg_recs = np.asarray(new_avg_recs)\n",
    "avg_durs = np.asarray([np.average(all_new_durs[0:6]),np.average(all_new_durs[6:12]),np.average(all_new_durs[12:18]),np.average(all_new_durs[18:20]),np.average(all_new_durs[20:24]),np.average(all_new_durs[24:])])\n",
    "new_dc_df['DC'] = avg_durs / new_avg_recs\n",
    "\n",
    "display(new_dc_df)"
   ]
  },
  {
   "cell_type": "code",
   "execution_count": null,
   "metadata": {},
   "outputs": [],
   "source": [
    "full_dc_df = pd.concat([dc_df,new_dc_df],ignore_index=True)\n",
    "display(full_dc_df)"
   ]
  },
  {
   "cell_type": "code",
   "execution_count": null,
   "metadata": {},
   "outputs": [],
   "source": [
    "#save the output files if desired\n",
    "#full_profile_df.to_csv('eruption_profiles.csv',index=False)\n",
    "#full_dc_df.to_csv('eruption_dcs.csv',index=False)"
   ]
  }
 ],
 "metadata": {
  "kernelspec": {
   "display_name": "Python 3 (ipykernel)",
   "language": "python",
   "name": "python3"
  },
  "language_info": {
   "codemirror_mode": {
    "name": "ipython",
    "version": 3
   },
   "file_extension": ".py",
   "mimetype": "text/x-python",
   "name": "python",
   "nbconvert_exporter": "python",
   "pygments_lexer": "ipython3",
   "version": "3.8.10"
  }
 },
 "nbformat": 4,
 "nbformat_minor": 4
}
